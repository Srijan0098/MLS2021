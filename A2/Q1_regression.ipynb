{
 "cells": [
  {
   "cell_type": "code",
   "execution_count": 53,
   "metadata": {},
   "outputs": [],
   "source": [
    "# import necessary modules\n",
    "\n",
    "import numpy as np\n",
    "import matplotlib.pyplot as plt\n",
    "import pandas as pd\n",
    "import sklearn\n",
    "from sklearn.linear_model import LinearRegression\n",
    "import house_sales_data as hsd\n",
    "from sklearn.model_selection import train_test_split\n"
   ]
  },
  {
   "cell_type": "code",
   "execution_count": 7,
   "metadata": {},
   "outputs": [
    {
     "name": "stdout",
     "output_type": "stream",
     "text": [
      "dict_keys(['price', 'area', 'beds', 'baths', 'condo', 'location'])\n"
     ]
    }
   ],
   "source": [
    "## Sacramento house price data; load\n",
    "data = hsd.house_sales_data() \n",
    "print(data.keys())\n",
    "\n",
    "## Get the target (i.e., price) and two features\n",
    "price = data[\"price\"]\n",
    "area = data[\"area\"]\n",
    "beds = data[\"beds\"]\n"
   ]
  },
  {
   "cell_type": "code",
   "execution_count": 54,
   "metadata": {},
   "outputs": [],
   "source": [
    "X_train = np.hstack((area[:,np.newaxis], beds[:,np.newaxis], np.ones(area.shape[0])[:,np.newaxis]))\n",
    "y_train = price\n",
    "min_X, max_X, min_y, max_y = normalize_data(X_train, y_train, [True, True, False])\n",
    "X_train, X_test, y_train, y_test = train_test_split(X, y, test_size=0.2, random_state=42)"
   ]
  },
  {
   "cell_type": "markdown",
   "metadata": {},
   "source": [
    "### Normalising the data"
   ]
  },
  {
   "cell_type": "code",
   "execution_count": 16,
   "metadata": {},
   "outputs": [],
   "source": [
    "def normalize_data(X, y, normalize_cols):\n",
    "    min_X = X[:,normalize_cols].min(axis=0)\n",
    "    max_X = X[:,normalize_cols].max(axis=0)\n",
    "    min_y = y.min()\n",
    "    max_y = y.max()\n",
    "    X[:,normalize_cols] = (X[:,normalize_cols] - min_X) / (max_X - min_X)\n",
    "    y[:] = (y - min_y) / (max_y - min_y)\n",
    "    return min_X, max_X, min_y, max_y\n",
    "\n",
    "X = np.array([area, beds, np.ones(area.shape[0])]).T\n",
    "y = price\n",
    "ranges = normalize_data(X, y, [True, True, False])"
   ]
  },
  {
   "cell_type": "markdown",
   "metadata": {},
   "source": [
    "### Implementing Gradient Descent"
   ]
  },
  {
   "cell_type": "code",
   "execution_count": 21,
   "metadata": {},
   "outputs": [],
   "source": [
    "def gradient_descent(X, y, max_iteration, learning_rate):\n",
    "    m, n = X.shape\n",
    "    theta = np.zeros(n)\n",
    "    costs = np.zeros(max_iteration)\n",
    "    \n",
    "    for t in range(max_iteration):\n",
    "        grad = np.zeros(n)\n",
    "        for i in range(m):\n",
    "            y_hat = X[i] @ theta\n",
    "            loss = (y_hat - y[i])**2\n",
    "            costs[t] = costs[t] + 1/m * loss\n",
    "            for j in range(n):\n",
    "                der = 2 * (y_hat - y[i])*X[i,j]\n",
    "                grad[j] = grad[j] + 1/m * der\n",
    "        theta = theta - learning_rate * grad\n",
    "    return theta, costs\n",
    "    "
   ]
  },
  {
   "cell_type": "code",
   "execution_count": 45,
   "metadata": {},
   "outputs": [
    {
     "data": {
      "text/plain": [
       "(array([0.34951078, 0.1695357 , 0.09900797]),\n",
       " array([0.10325909, 0.08457779, 0.07038168, 0.05959007, 0.0513827 ,\n",
       "        0.04513695, 0.04038025, 0.03675389, 0.0339856 , 0.03186872,\n",
       "        0.0302464 , 0.02899956, 0.02803783, 0.02729262, 0.02671185,\n",
       "        0.02625601, 0.02589509, 0.02560633, 0.02537243, 0.02518029,\n",
       "        0.02501993, 0.02488381, 0.02476617, 0.02466267, 0.02456999,\n",
       "        0.02448563, 0.02440767, 0.02433467, 0.02426553, 0.02419941,\n",
       "        0.02413568, 0.02407386, 0.02401357, 0.02395455, 0.02389657,\n",
       "        0.02383948, 0.02378314, 0.02372748, 0.0236724 , 0.02361787,\n",
       "        0.02356383, 0.02351026, 0.02345712, 0.02340439, 0.02335207,\n",
       "        0.02330014, 0.02324858, 0.0231974 , 0.02314657, 0.0230961 ,\n",
       "        0.02304599, 0.02299621, 0.02294679, 0.0228977 , 0.02284895,\n",
       "        0.02280053, 0.02275244, 0.02270467, 0.02265723, 0.02261012,\n",
       "        0.02256332, 0.02251684, 0.02247068, 0.02242482, 0.02237928,\n",
       "        0.02233404, 0.02228911, 0.02224448, 0.02220016, 0.02215613,\n",
       "        0.02211239, 0.02206896, 0.02202581, 0.02198295, 0.02194039,\n",
       "        0.0218981 , 0.0218561 , 0.02181439, 0.02177295, 0.02173179,\n",
       "        0.0216909 , 0.02165029, 0.02160995, 0.02156988, 0.02153007,\n",
       "        0.02149054, 0.02145126, 0.02141225, 0.0213735 , 0.021335  ,\n",
       "        0.02129676, 0.02125878, 0.02122104, 0.02118356, 0.02114633,\n",
       "        0.02110934, 0.0210726 , 0.0210361 , 0.02099984, 0.02096382,\n",
       "        0.02092804, 0.0208925 , 0.02085719, 0.02082211, 0.02078727,\n",
       "        0.02075265, 0.02071826, 0.0206841 , 0.02065016, 0.02061645,\n",
       "        0.02058296, 0.02054968, 0.02051663, 0.02048379, 0.02045116,\n",
       "        0.02041875, 0.02038655, 0.02035456, 0.02032278, 0.02029121,\n",
       "        0.02025984, 0.02022868, 0.02019771, 0.02016696, 0.0201364 ,\n",
       "        0.02010603, 0.02007587, 0.0200459 , 0.02001613, 0.01998654,\n",
       "        0.01995715, 0.01992795, 0.01989894, 0.01987011, 0.01984147,\n",
       "        0.01981302, 0.01978475, 0.01975666, 0.01972875, 0.01970102,\n",
       "        0.01967346, 0.01964609, 0.01961889, 0.01959186, 0.01956501,\n",
       "        0.01953832, 0.01951181, 0.01948547, 0.01945929, 0.01943329,\n",
       "        0.01940744, 0.01938176, 0.01935625, 0.0193309 , 0.0193057 ,\n",
       "        0.01928067, 0.0192558 , 0.01923108, 0.01920652, 0.01918211,\n",
       "        0.01915786, 0.01913376, 0.01910981, 0.01908602, 0.01906237,\n",
       "        0.01903887, 0.01901552, 0.01899231, 0.01896925, 0.01894634,\n",
       "        0.01892357, 0.01890094, 0.01887845, 0.0188561 , 0.01883389,\n",
       "        0.01881182, 0.01878989, 0.01876809, 0.01874643, 0.0187249 ,\n",
       "        0.0187035 , 0.01868224, 0.01866111, 0.01864011, 0.01861924,\n",
       "        0.0185985 , 0.01857788, 0.0185574 , 0.01853703, 0.0185168 ,\n",
       "        0.01849668, 0.01847669, 0.01845683, 0.01843708, 0.01841746,\n",
       "        0.01839795, 0.01837857, 0.0183593 , 0.01834015, 0.01832111,\n",
       "        0.01830219, 0.01828339, 0.0182647 , 0.01824612, 0.01822765,\n",
       "        0.0182093 , 0.01819106, 0.01817292, 0.0181549 , 0.01813698,\n",
       "        0.01811917, 0.01810147, 0.01808388, 0.01806639, 0.018049  ,\n",
       "        0.01803172, 0.01801454, 0.01799747, 0.01798049, 0.01796362,\n",
       "        0.01794685, 0.01793017, 0.0179136 , 0.01789712, 0.01788074,\n",
       "        0.01786446, 0.01784827, 0.01783218, 0.01781618, 0.01780028,\n",
       "        0.01778447, 0.01776875, 0.01775313, 0.0177376 , 0.01772215,\n",
       "        0.0177068 , 0.01769154, 0.01767637, 0.01766128, 0.01764628,\n",
       "        0.01763137, 0.01761655, 0.01760181, 0.01758715, 0.01757258,\n",
       "        0.0175581 , 0.0175437 , 0.01752938, 0.01751514, 0.01750099]))"
      ]
     },
     "execution_count": 45,
     "metadata": {},
     "output_type": "execute_result"
    }
   ],
   "source": [
    "#checking with a user-input learning rate and iteration\n",
    "\n",
    "theta,costs = gradient_descent(X,y,250,0.05)\n",
    "theta,costs"
   ]
  },
  {
   "cell_type": "code",
   "execution_count": 44,
   "metadata": {},
   "outputs": [],
   "source": [
    "# Implement an evaluation metric for regression\n",
    "y_hat = X@theta\n",
    "def evaluation_metric(y,y_hat):\n",
    "    return np.mean(np.square(y_hat-y))"
   ]
  },
  {
   "cell_type": "code",
   "execution_count": null,
   "metadata": {},
   "outputs": [],
   "source": [
    "# Prepare data this way\n",
    "X_train = np.hstack((area[:,np.newaxis], beds[:,np.newaxis], np.ones(area.shape[0])[:,np.newaxis]))\n",
    "y_train = price\n",
    "min_X, max_X, min_y, max_y = normalize_data(X_train, y_train, [True, True, False])\n",
    "X_train, X_test, y_train, y_test = train_test_split(X, y, test_size=0.2, random_state=42)"
   ]
  },
  {
   "cell_type": "code",
   "execution_count": 46,
   "metadata": {},
   "outputs": [
    {
     "data": {
      "text/plain": [
       "(array([0.49867702, 0.15770102, 0.06108265]),\n",
       " array([0.10325909, 0.06845834, 0.04921421, 0.03854616, 0.03260631,\n",
       "        0.02927359, 0.0273788 , 0.02627744, 0.02561422, 0.02519329,\n",
       "        0.02490668, 0.02469486, 0.02452501, 0.02437902, 0.0242469 ,\n",
       "        0.02412314, 0.02400468, 0.02388984, 0.02377766, 0.02366762,\n",
       "        0.02355942, 0.02345287, 0.02334789, 0.02324438, 0.02314232,\n",
       "        0.02304166, 0.02294238, 0.02284445, 0.02274785, 0.02265256,\n",
       "        0.02255855, 0.02246582, 0.02237434, 0.0222841 , 0.02219506,\n",
       "        0.02210723, 0.02202058, 0.02193508, 0.02185074, 0.02176752,\n",
       "        0.02168542, 0.02160441, 0.02152448, 0.02144562, 0.02136781,\n",
       "        0.02129103, 0.02121527, 0.02114051, 0.02106674, 0.02099395,\n",
       "        0.02092212, 0.02085124, 0.02078128, 0.02071225, 0.02064413,\n",
       "        0.0205769 , 0.02051055, 0.02044506, 0.02038044, 0.02031665,\n",
       "        0.0202537 , 0.02019156, 0.02013023, 0.02006969, 0.02000994,\n",
       "        0.01995096, 0.01989275, 0.01983528, 0.01977855, 0.01972255,\n",
       "        0.01966727, 0.01961269, 0.01955881, 0.01950562, 0.01945311,\n",
       "        0.01940127, 0.01935008, 0.01929954, 0.01924964, 0.01920038,\n",
       "        0.01915173, 0.0191037 , 0.01905627, 0.01900943, 0.01896318,\n",
       "        0.01891751, 0.01887241, 0.01882787, 0.01878388, 0.01874044,\n",
       "        0.01869753, 0.01865516, 0.01861331, 0.01857197, 0.01853115,\n",
       "        0.01849082, 0.01845098, 0.01841164, 0.01837277, 0.01833437,\n",
       "        0.01829644, 0.01825897, 0.01822195, 0.01818538, 0.01814925,\n",
       "        0.01811355, 0.01807828, 0.01804344, 0.018009  , 0.01797498,\n",
       "        0.01794136, 0.01790814, 0.01787531, 0.01784287, 0.01781081,\n",
       "        0.01777913, 0.01774782, 0.01771687, 0.01768629, 0.01765606,\n",
       "        0.01762618, 0.01759664, 0.01756745, 0.0175386 , 0.01751007,\n",
       "        0.01748187, 0.01745399, 0.01742644, 0.01739919, 0.01737225,\n",
       "        0.01734562, 0.01731929, 0.01729325, 0.01726751, 0.01724206,\n",
       "        0.01721688, 0.01719199, 0.01716738, 0.01714303, 0.01711896,\n",
       "        0.01709515, 0.0170716 , 0.01704831, 0.01702527, 0.01700249,\n",
       "        0.01697995, 0.01695765, 0.0169356 , 0.01691378, 0.0168922 ,\n",
       "        0.01687084, 0.01684972, 0.01682882, 0.01680814, 0.01678768,\n",
       "        0.01676743, 0.01674739, 0.01672757, 0.01670795, 0.01668854,\n",
       "        0.01666933, 0.01665031, 0.01663149, 0.01661287, 0.01659443,\n",
       "        0.01657618, 0.01655812, 0.01654024, 0.01652254, 0.01650502,\n",
       "        0.01648768, 0.0164705 , 0.0164535 , 0.01643667, 0.01642001,\n",
       "        0.0164035 , 0.01638716, 0.01637098, 0.01635496, 0.01633909,\n",
       "        0.01632338, 0.01630782, 0.01629241, 0.01627714, 0.01626203,\n",
       "        0.01624705, 0.01623222, 0.01621752, 0.01620297, 0.01618855,\n",
       "        0.01617427, 0.01616011, 0.01614609, 0.0161322 , 0.01611844,\n",
       "        0.0161048 , 0.01609129, 0.0160779 , 0.01606463, 0.01605148,\n",
       "        0.01603845, 0.01602554, 0.01601274, 0.01600005, 0.01598748,\n",
       "        0.01597502, 0.01596266, 0.01595042, 0.01593828, 0.01592624,\n",
       "        0.01591431, 0.01590249, 0.01589076, 0.01587914, 0.01586761,\n",
       "        0.01585618, 0.01584485, 0.01583361, 0.01582246, 0.01581141,\n",
       "        0.01580045, 0.01578958, 0.0157788 , 0.01576811, 0.01575751,\n",
       "        0.01574699, 0.01573655, 0.0157262 , 0.01571594, 0.01570575,\n",
       "        0.01569565, 0.01568563, 0.01567568, 0.01566581, 0.01565602,\n",
       "        0.01564631, 0.01563667, 0.01562711, 0.01561762, 0.0156082 ,\n",
       "        0.01559885, 0.01558958, 0.01558037, 0.01557124, 0.01556217,\n",
       "        0.01555317, 0.01554424, 0.01553537, 0.01552657, 0.01551783]))"
      ]
     },
     "execution_count": 46,
     "metadata": {},
     "output_type": "execute_result"
    }
   ],
   "source": [
    "# call gradient descent and fine-tune your learning rate\n",
    "\n",
    "gradient_descent(X,y,250,0.1)"
   ]
  },
  {
   "cell_type": "code",
   "execution_count": 49,
   "metadata": {},
   "outputs": [],
   "source": [
    "# plot cost vs iterations \n",
    "# note gradient descent return costs for all iterations\n",
    "\n",
    "def error(iters):\n",
    "    err=[]\n",
    "    m1=0.\n",
    "    m2=0.\n",
    "    c=0.\n",
    "    alpha=0.01\n",
    "    for i in range(iters):\n",
    "        y_pred = m1*X.T[0] + m2*X.T[1] + c\n",
    "        errterm = np.mean((y-y_pred)**2)\n",
    "        err.append(errterm)\n",
    "        Dm1 = (-2/float(len(X.T[0])))*sum(X.T[0]*(y-y_pred))\n",
    "        Dm2 = (-2/float(len(X.T[1])))*sum(X.T[1]*(y-y_pred))\n",
    "        Dc = (-2/float(len(X.T[0])))*sum(y-y_pred)\n",
    "        m1 = m1 - alpha*Dm1\n",
    "        m2 = m2 - alpha*Dm2\n",
    "        c = c - alpha*Dc\n",
    "    return np.array(err)"
   ]
  },
  {
   "cell_type": "code",
   "execution_count": 50,
   "metadata": {},
   "outputs": [
    {
     "data": {
      "text/plain": [
       "[<matplotlib.lines.Line2D at 0x7f9fe8e6b790>]"
      ]
     },
     "execution_count": 50,
     "metadata": {},
     "output_type": "execute_result"
    },
    {
     "data": {
      "image/png": "[encoded data removed]",
      "text/plain": [
       "<Figure size 432x288 with 1 Axes>"
      ]
     },
     "metadata": {
      "needs_background": "light"
     },
     "output_type": "display_data"
    }
   ],
   "source": [
    "plt.plot(np.arange(500),error(500))"
   ]
  },
  {
   "cell_type": "code",
   "execution_count": 42,
   "metadata": {},
   "outputs": [
    {
     "data": {
      "text/plain": [
       "[<matplotlib.lines.Line2D at 0x7f9fe8b0a760>]"
      ]
     },
     "execution_count": 42,
     "metadata": {},
     "output_type": "execute_result"
    },
    {
     "data": {
      "image/png": "[encoded data removed]",
      "text/plain": [
       "<Figure size 432x288 with 1 Axes>"
      ]
     },
     "metadata": {
      "needs_background": "light"
     },
     "output_type": "display_data"
    }
   ],
   "source": [
    "plt.plot(np.arange(1000),error(1000))"
   ]
  },
  {
   "cell_type": "code",
   "execution_count": 59,
   "metadata": {},
   "outputs": [
    {
     "data": {
      "text/plain": [
       "0.016416994182125593"
      ]
     },
     "execution_count": 59,
     "metadata": {},
     "output_type": "execute_result"
    }
   ],
   "source": [
    "# print evaluation metric for test set while \n",
    "# changing max_iteration from 500 to 2000\n",
    "# Note the best value of evaluation metric you get\n",
    "\n",
    "y_hat1 = X_test@theta\n",
    "evaluation_metric(y_test,y_hat1)"
   ]
  },
  {
   "cell_type": "code",
   "execution_count": null,
   "metadata": {},
   "outputs": [],
   "source": [
    "# compare your solution with scikit-learn library\n",
    "from sklearn import datasets, linear_model"
   ]
  },
  {
   "cell_type": "code",
   "execution_count": 61,
   "metadata": {},
   "outputs": [],
   "source": [
    "# Create linear regression object\n",
    "\n",
    "model = LinearRegression()\n"
   ]
  },
  {
   "cell_type": "code",
   "execution_count": null,
   "metadata": {},
   "outputs": [],
   "source": [
    "# Train the model using the training sets\n",
    "\n",
    "model.fit(X_train,y_train)\n"
   ]
  },
  {
   "cell_type": "code",
   "execution_count": 63,
   "metadata": {},
   "outputs": [
    {
     "data": {
      "text/plain": [
       "array([0.33279794, 0.19847744, 0.46143228, 0.28216527, 0.26391927,\n",
       "       0.13461642, 0.47808176, 0.16222921, 0.56476599, 0.18912636,\n",
       "       0.25253123, 0.13416027, 0.21603922, 0.36291956, 0.2372502 ,\n",
       "       0.24318015, 0.21079349, 0.35216861, 0.19461587, 0.25890162,\n",
       "       0.14784477, 0.40420115, 0.28674249, 0.40006437, 0.23040795,\n",
       "       0.20851274, 0.43701253, 0.24477667, 0.27305798, 0.25411204,\n",
       "       0.19368786, 0.26141044, 0.14693247, 0.32619947, 0.17840683,\n",
       "       0.31820113, 0.25618043, 0.38297445, 0.17110843, 0.24590134,\n",
       "       0.15444324, 0.41034346, 0.25435583, 0.13736903, 0.47899406,\n",
       "       0.29837432, 0.3360067 , 0.33576291, 0.26142615, 0.19187897,\n",
       "       0.20668814, 0.18935443, 0.28423366, 0.35014736, 0.30546035,\n",
       "       0.42240002, 0.43132637, 0.15537125, 0.13966549, 0.26165423,\n",
       "       0.15651162, 0.23840628, 0.26802462, 0.17658223, 0.47262367,\n",
       "       0.1503536 , 0.16268536, 0.18000336, 0.51160879, 0.41446452,\n",
       "       0.14626396, 0.38732359, 0.32072567, 0.24296779, 0.33188564,\n",
       "       0.1904791 , 0.14717626, 0.29791817, 0.25730509, 0.23953095,\n",
       "       0.23176068, 0.4584673 , 0.59052276, 0.48492401, 0.34237709,\n",
       "       0.15903616, 0.22539029, 0.19461587, 0.21010926, 0.52643367,\n",
       "       0.5013297 , 0.22493414, 0.25297167, 0.52550566, 0.25639279,\n",
       "       0.131211  , 0.18342448, 0.15170634, 0.19596861, 0.23496945,\n",
       "       0.24684506, 0.35925465, 0.19733706, 0.2582331 , 0.24342394,\n",
       "       0.18228411, 0.22723061, 0.16996805, 0.31116223, 0.27691955,\n",
       "       0.24135555, 0.20509161, 0.40853457, 0.30954999, 0.40008008,\n",
       "       0.14737291, 0.16745923, 0.16472233, 0.25297167, 0.38274638,\n",
       "       0.68128093, 0.1649504 , 0.33258558, 0.39323783, 0.31249926,\n",
       "       0.26758418, 0.1822684 , 0.22812719, 0.2317764 , 0.16723115,\n",
       "       0.18251218, 0.13349175, 0.21672344, 0.40485395, 0.20417931,\n",
       "       0.22493414, 0.35402463, 0.12298459, 0.42151914, 0.6559646 ,\n",
       "       0.16198543, 0.14373942, 0.20944075, 0.59076655, 0.19846173,\n",
       "       0.13805326, 0.32185034, 0.17840683, 0.21330232, 0.15537125,\n",
       "       0.24682935, 0.32070996, 0.21923227, 0.1257372 , 0.13257945])"
      ]
     },
     "execution_count": 63,
     "metadata": {},
     "output_type": "execute_result"
    }
   ],
   "source": [
    "# Predict on test set and print evaluation metric\n",
    "# How much does it differ by from \n",
    "\n",
    "model.fit(X_train,y_train)\n",
    "y_predicted = model.predict(X_test)\n",
    "y_predicted"
   ]
  },
  {
   "cell_type": "code",
   "execution_count": null,
   "metadata": {},
   "outputs": [],
   "source": []
  },
  {
   "cell_type": "code",
   "execution_count": null,
   "metadata": {},
   "outputs": [],
   "source": []
  }
 ],
 "metadata": {
  "kernelspec": {
   "display_name": "Python 3",
   "language": "python",
   "name": "python3"
  },
  "language_info": {
   "codemirror_mode": {
    "name": "ipython",
    "version": 3
   },
   "file_extension": ".py",
   "mimetype": "text/x-python",
   "name": "python",
   "nbconvert_exporter": "python",
   "pygments_lexer": "ipython3",
   "version": "3.8.5"
  }
 },
 "nbformat": 4,
 "nbformat_minor": 4
}

{
 "cells": [
  {
   "cell_type": "code",
   "execution_count": 2,
   "metadata": {},
   "outputs": [],
   "source": [
    "import numpy as np\n",
    "import matplotlib.pyplot as plt\n",
    "import sklearn\n",
    "from sklearn.linear_model import LinearRegression\n",
    "from sklearn.model_selection import train_test_split\n",
    "from sklearn.preprocessing import PolynomialFeatures"
   ]
  },
  {
   "cell_type": "code",
   "execution_count": 3,
   "metadata": {},
   "outputs": [],
   "source": [
    "# suppose we have received the following data from some sensor\n",
    "data_x = np.linspace(1.0, 10.0, 100)[:, np.newaxis]\n",
    "data_y = np.sin(data_x) + 0.1 * np.power(data_x, 2) + 0.5 * np.random.randn(100, 1)"
   ]
  },
  {
   "cell_type": "code",
   "execution_count": null,
   "metadata": {},
   "outputs": [],
   "source": []
  },
  {
   "cell_type": "code",
   "execution_count": 13,
   "metadata": {},
   "outputs": [
    {
     "data": {
      "text/plain": [
       "[<matplotlib.lines.Line2D at 0x7f82cc909430>]"
      ]
     },
     "execution_count": 13,
     "metadata": {},
     "output_type": "execute_result"
    },
    {
     "data": {
      "image/png": "[encoded data removed]",
      "text/plain": [
       "<Figure size 432x288 with 1 Axes>"
      ]
     },
     "metadata": {
      "needs_background": "light"
     },
     "output_type": "display_data"
    }
   ],
   "source": [
    "# fit a polynomial of order 6\n",
    "\n",
    "poly_reg = PolynomialFeatures(degree=6)\n",
    "x_poly = poly_reg.fit_transform(data_x)\n",
    "poly_reg.fit(x_poly,data_y)\n",
    "model = LinearRegression()\n",
    "model.fit(x_poly,data_y)\n",
    "plt.scatter(data_x,data_y)\n",
    "plt.plot(data_x,model.predict(x_poly),color='red',linewidth=3)"
   ]
  },
  {
   "cell_type": "code",
   "execution_count": 16,
   "metadata": {},
   "outputs": [],
   "source": [
    "#splitting into test and train data\n",
    "\n",
    "\n",
    "xnew = np.power(data_x, range(7))\n",
    "xnew = xnew/np.max(xnew, axis=0)\n",
    "order=np.random.permutation(len(data_x))\n",
    "\n",
    "train_x=xnew[order[30:]]\n",
    "train_y=data_y[order[30:]]\n",
    "test_x=xnew[order[:30]]\n",
    "test_y=data_y[order[:30]]"
   ]
  },
  {
   "cell_type": "code",
   "execution_count": null,
   "metadata": {},
   "outputs": [],
   "source": []
  },
  {
   "cell_type": "code",
   "execution_count": 26,
   "metadata": {},
   "outputs": [],
   "source": [
    "# Implement gradient computation and theta update \n",
    "\n",
    "def gradient_descent(X, y, theta, alpha):\n",
    "    for t in range(250):\n",
    "        theta = theta - alpha*(1/train_x.shape[0])*(X.T@((X@theta)-y))\n",
    "        return theta"
   ]
  },
  {
   "cell_type": "code",
   "execution_count": 28,
   "metadata": {},
   "outputs": [
    {
     "data": {
      "text/plain": [
       "array([[1.10504184],\n",
       "       [1.09226763],\n",
       "       [1.07841872],\n",
       "       [1.0663947 ],\n",
       "       [1.05659508],\n",
       "       [1.04875692],\n",
       "       [1.04249932]])"
      ]
     },
     "execution_count": 28,
     "metadata": {},
     "output_type": "execute_result"
    }
   ],
   "source": [
    "theta1 = np.ones(7).reshape(7,1)\n",
    "theta_pred = gradient_descent(train_x,train_y,theta1,0.1)\n",
    "theta_pred"
   ]
  },
  {
   "cell_type": "code",
   "execution_count": null,
   "metadata": {},
   "outputs": [],
   "source": []
  },
  {
   "cell_type": "code",
   "execution_count": 37,
   "metadata": {},
   "outputs": [],
   "source": [
    "# Call stochastic gradient descent in the main loop\n",
    "\n",
    "m,n = train_x.shape\n",
    "LR = 0.1\n",
    "sample_size = 30\n",
    "epochs = 500\n",
    "costs = []\n",
    "for i in range(epochs): \n",
    "    idx = np.random.choice(m, sample_size, replace = False)\n",
    "    x_sample = train_x[idx]\n",
    "    y_sample = train_y[idx]\n",
    "    y_hat = x_sample@theta1 - y_sample\n",
    "    grad = (1/m)*x_sample.T @ y_hat\n",
    "    theta1 = theta1 - LR*grad"
   ]
  },
  {
   "cell_type": "code",
   "execution_count": 38,
   "metadata": {},
   "outputs": [
    {
     "data": {
      "text/plain": [
       "array([[-0.14301608],\n",
       "       [ 2.72300862],\n",
       "       [ 3.47444465],\n",
       "       [ 2.80384882],\n",
       "       [ 1.67438897],\n",
       "       [ 0.53356982],\n",
       "       [-0.45942196]])"
      ]
     },
     "execution_count": 38,
     "metadata": {},
     "output_type": "execute_result"
    }
   ],
   "source": [
    "theta1"
   ]
  },
  {
   "cell_type": "code",
   "execution_count": 39,
   "metadata": {},
   "outputs": [
    {
     "data": {
      "text/plain": [
       "[<matplotlib.lines.Line2D at 0x7f82cbdf2a90>]"
      ]
     },
     "execution_count": 39,
     "metadata": {},
     "output_type": "execute_result"
    },
    {
     "data": {
      "image/png": "[encoded data removed]",
      "text/plain": [
       "<Figure size 432x288 with 1 Axes>"
      ]
     },
     "metadata": {
      "needs_background": "light"
     },
     "output_type": "display_data"
    }
   ],
   "source": [
    "# predict y_hat using test_x and theta \n",
    "\n",
    "# plot x vs y in blue\n",
    "# plot x vs y_hat in red\n",
    "\n",
    "plt.scatter(data_x,data_y)\n",
    "plt.plot(data_x,xnew@theta1,color=\"red\")"
   ]
  },
  {
   "cell_type": "code",
   "execution_count": null,
   "metadata": {},
   "outputs": [],
   "source": []
  },
  {
   "cell_type": "code",
   "execution_count": null,
   "metadata": {},
   "outputs": [],
   "source": []
  }
 ],
 "metadata": {
  "kernelspec": {
   "display_name": "Python 3",
   "language": "python",
   "name": "python3"
  },
  "language_info": {
   "codemirror_mode": {
    "name": "ipython",
    "version": 3
   },
   "file_extension": ".py",
   "mimetype": "text/x-python",
   "name": "python",
   "nbconvert_exporter": "python",
   "pygments_lexer": "ipython3",
   "version": "3.8.5"
  }
 },
 "nbformat": 4,
 "nbformat_minor": 4
}
